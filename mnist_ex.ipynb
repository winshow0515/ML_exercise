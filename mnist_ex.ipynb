{
 "cells": [
  {
   "cell_type": "code",
   "execution_count": 1,
   "id": "1d769498",
   "metadata": {},
   "outputs": [
    {
     "name": "stdout",
     "output_type": "stream",
     "text": [
      "Training dataset size: 60000\n",
      "Test dataset size: 10000\n",
      "MNIST dataset downloaded successfully.\n"
     ]
    }
   ],
   "source": [
    "import torch\n",
    "# Import MNIST\n",
    "from torchvision import datasets\n",
    "from torchvision.datasets import MNIST\n",
    "\n",
    "# Define the path to save the dataset\n",
    "data_path = 'data'\n",
    "# Download the MNIST dataset\n",
    "mnist_train = MNIST(root=data_path, train=True, download=True)\n",
    "mnist_test = MNIST(root=data_path, train=False, download=True)\n",
    "# Print the size of the training and test datasets\n",
    "print(f\"Training dataset size: {len(mnist_train)}\")\n",
    "print(f\"Test dataset size: {len(mnist_test)}\")\n",
    "print(\"MNIST dataset downloaded successfully.\")\n"
   ]
  },
  {
   "cell_type": "code",
   "execution_count": 2,
   "id": "a277eaf4",
   "metadata": {},
   "outputs": [
    {
     "data": {
      "image/png": "[encoded data removed]",
      "text/plain": [
       "<Figure size 640x480 with 1 Axes>"
      ]
     },
     "metadata": {},
     "output_type": "display_data"
    }
   ],
   "source": [
    "# Print the first image and label\n",
    "import matplotlib.pyplot as plt\n",
    "import random\n",
    "idx = random.randint(0, len(mnist_train) - 1)\n",
    "plt.imshow(mnist_train.data[idx], cmap='gray')\n",
    "plt.title(f\"Label: {mnist_train.targets[idx]}\")\n",
    "plt.show()"
   ]
  },
  {
   "cell_type": "code",
   "execution_count": 34,
   "id": "7cd4104b",
   "metadata": {},
   "outputs": [],
   "source": [
    "import torch\n",
    "\n",
    "class LinearRegression(torch.nn.Module):\n",
    "    def __init__(self):\n",
    "        super(LinearRegression, self).__init__()\n",
    "        self.fc = torch.nn.Sequential(\n",
    "            torch.nn.Linear(28*28, 1024),\n",
    "            torch.nn.ReLU(),\n",
    "            torch.nn.Linear(1024, 10)\n",
    "        )\n",
    "\n",
    "    def forward(self, x):\n",
    "        out = self.fc(x)\n",
    "        return out\n",
    "# 50epoch 96.75%"
   ]
  },
  {
   "cell_type": "code",
   "execution_count": 4,
   "id": "e39f31ac",
   "metadata": {},
   "outputs": [
    {
     "name": "stdout",
     "output_type": "stream",
     "text": [
      "torch.Size([32]) tensor([ 0,  1,  2,  3,  4,  5,  6,  7,  8,  9, 10, 11, 12, 13, 14, 15, 16, 17,\n",
      "        18, 19, 20, 21, 22, 23, 24, 25, 26, 27, 28, 29, 30, 31])\n",
      "torch.Size([32]) tensor([32, 33, 34, 35, 36, 37, 38, 39, 40, 41, 42, 43, 44, 45, 46, 47, 48, 49,\n",
      "        50, 51, 52, 53, 54, 55, 56, 57, 58, 59, 60, 61, 62, 63])\n",
      "torch.Size([32]) tensor([64, 65, 66, 67, 68, 69, 70, 71, 72, 73, 74, 75, 76, 77, 78, 79, 80, 81,\n",
      "        82, 83, 84, 85, 86, 87, 88, 89, 90, 91, 92, 93, 94, 95])\n",
      "torch.Size([4]) tensor([96, 97, 98, 99])\n"
     ]
    }
   ],
   "source": [
    "from torch.utils.data import TensorDataset, DataLoader\n",
    "\n",
    "test = torch.tensor(list(range(100)))\n",
    "test_dataset = TensorDataset(test)\n",
    "test_loader = DataLoader(test_dataset, batch_size=32, shuffle=False)\n",
    "\n",
    "for batch, in test_loader:\n",
    "    print(batch.shape, batch)\n",
    "\n",
    "# for idx in range(0, len(test), 32):\n",
    "#     batch = test[idx:idx+32]"
   ]
  },
  {
   "cell_type": "code",
   "execution_count": 19,
   "id": "a311687d",
   "metadata": {},
   "outputs": [
    {
     "name": "stdout",
     "output_type": "stream",
     "text": [
      "tensor([ 0., 10.])\n",
      "tensor([4.5398e-05, 9.9995e-01])\n"
     ]
    },
    {
     "data": {
      "text/plain": [
       "tensor([4.5398e-05, 9.9995e-01])"
      ]
     },
     "execution_count": 19,
     "metadata": {},
     "output_type": "execute_result"
    }
   ],
   "source": [
    "Y = torch.tensor([0, 10.0])\n",
    "print(Y)\n",
    "print(torch.softmax(Y, dim=0))\n",
    "\n",
    "torch.exp(Y)/torch.sum(torch.exp(Y))"
   ]
  },
  {
   "cell_type": "code",
   "execution_count": 29,
   "id": "2324633f",
   "metadata": {},
   "outputs": [
    {
     "name": "stdout",
     "output_type": "stream",
     "text": [
      "torch.Size([60000, 784]) torch.Size([60000])\n",
      "torch.Size([10000, 784]) torch.Size([10000])\n"
     ]
    }
   ],
   "source": [
    "train_X = mnist_train.data.view(60000, 28*28).float() / 255.0\n",
    "train_y = mnist_train.targets\n",
    "test_X = mnist_test.data.view(10000, 28*28).float() / 255.0\n",
    "test_y = mnist_test.targets\n",
    "# dataloader\n",
    "from torch.utils.data import TensorDataset, DataLoader\n",
    "train_dataset = TensorDataset(train_X, train_y)\n",
    "test_dataset = TensorDataset(test_X, test_y)\n",
    "train_loader = DataLoader(train_dataset, batch_size=64, shuffle=True)\n",
    "test_loader = DataLoader(test_dataset, batch_size=64, shuffle=False)\n",
    "print(train_X.shape, train_y.shape)\n",
    "print(test_X.shape, test_y.shape)"
   ]
  },
  {
   "cell_type": "code",
   "execution_count": null,
   "id": "43accefe",
   "metadata": {},
   "outputs": [
    {
     "name": "stdout",
     "output_type": "stream",
     "text": [
      "Epoch [1/100], Train Loss: 1.1128, Accuracy: 0.7863 Val Loss: 0.5296, Val Accuracy: 0.8776\n",
      "Epoch [2/100], Train Loss: 0.4607, Accuracy: 0.8819 Val Loss: 0.3818, Val Accuracy: 0.8985\n",
      "Epoch [3/100], Train Loss: 0.3751, Accuracy: 0.8974 Val Loss: 0.3373, Val Accuracy: 0.9064\n",
      "Epoch [4/100], Train Loss: 0.3373, Accuracy: 0.9059 Val Loss: 0.3128, Val Accuracy: 0.9108\n",
      "Epoch [5/100], Train Loss: 0.3137, Accuracy: 0.9114 Val Loss: 0.2901, Val Accuracy: 0.9184\n",
      "Epoch [6/100], Train Loss: 0.2952, Accuracy: 0.9165 Val Loss: 0.2743, Val Accuracy: 0.9227\n",
      "Epoch [7/100], Train Loss: 0.2799, Accuracy: 0.9209 Val Loss: 0.2635, Val Accuracy: 0.9257\n",
      "Epoch [8/100], Train Loss: 0.2670, Accuracy: 0.9244 Val Loss: 0.2519, Val Accuracy: 0.9301\n",
      "Epoch [9/100], Train Loss: 0.2550, Accuracy: 0.9283 Val Loss: 0.2426, Val Accuracy: 0.9320\n",
      "Epoch [10/100], Train Loss: 0.2442, Accuracy: 0.9320 Val Loss: 0.2330, Val Accuracy: 0.9343\n",
      "Epoch [11/100], Train Loss: 0.2344, Accuracy: 0.9344 Val Loss: 0.2242, Val Accuracy: 0.9358\n",
      "Epoch [12/100], Train Loss: 0.2254, Accuracy: 0.9371 Val Loss: 0.2163, Val Accuracy: 0.9381\n"
     ]
    }
   ],
   "source": [
    "# Train the model\n",
    "model = LinearRegression()\n",
    "criterion = torch.nn.CrossEntropyLoss()\n",
    "optimizer = torch.optim.SGD(model.parameters(), lr=0.01)\n",
    "# optimizer = torch.optim.Adam(model.parameters(), lr=0.01)\n",
    "\n",
    "for epoch in range(50):\n",
    "    total_loss = 0.0\n",
    "    total_hit = 0\n",
    "    for batch_X, batch_y in train_loader:\n",
    "        optimizer.zero_grad()\n",
    "        # print(batch_X.shape, batch_y.shape)\n",
    "        # torch.Size([64, 784]) torch.Size([64])\n",
    "        outputs = model(batch_X)\n",
    "        # print(outputs.shape, batch_y.shape)\n",
    "        # torch.Size([64, 10]) torch.Size([64])\n",
    "        \n",
    "        loss = criterion(outputs, batch_y)\n",
    "        loss.backward()\n",
    "        optimizer.step()\n",
    "        total_loss += loss.item()\n",
    "        total_hit += torch.sum(batch_y == torch.argmax(outputs, dim=1)).item()\n",
    "    train_loss = total_loss / len(train_loader)\n",
    "    train_accuracy = total_hit / len(train_loader.dataset)\n",
    "\n",
    "    # Validation\n",
    "    total_loss = 0.0\n",
    "    total_hit = 0\n",
    "    with torch.no_grad():\n",
    "        for batch_X, batch_y in test_loader:\n",
    "            outputs = model(batch_X)\n",
    "            loss = criterion(outputs, batch_y)\n",
    "            total_loss += loss.item()\n",
    "            total_hit += torch.sum(batch_y == torch.argmax(outputs, dim=1)).item()\n",
    "    test_loss = total_loss / len(test_loader)\n",
    "    test_accuracy = total_hit / len(test_loader.dataset)\n",
    "\n",
    "    print(f\"Epoch [{epoch+1}/100], Train Loss: {train_loss:.4f}, Accuracy: {train_accuracy:.4f} Val Loss: {test_loss:.4f}, Val Accuracy: {test_accuracy:.4f}\")\n"
   ]
  },
  {
   "cell_type": "code",
   "execution_count": 26,
   "id": "dc1a96b2",
   "metadata": {},
   "outputs": [
    {
     "name": "stdout",
     "output_type": "stream",
     "text": [
      "tensor([1, 7, 9, 6, 9, 8, 3, 7, 0, 7, 5, 5, 2, 9, 9, 3, 5, 5, 1, 0, 0, 0, 8, 8,\n",
      "        2, 8, 0, 0, 9, 0, 0, 2, 4, 8, 3, 9, 9, 1, 7, 0, 0, 2, 8, 5, 1, 7, 2, 0,\n",
      "        1, 0, 0, 4, 6, 2, 5, 0, 2, 5, 6, 6, 5, 1, 9, 6])\n",
      "tensor([1, 7, 7, 6, 9, 8, 3, 7, 0, 7, 8, 0, 2, 9, 9, 3, 5, 5, 1, 3, 0, 0, 8, 8,\n",
      "        2, 8, 0, 0, 7, 0, 0, 2, 4, 8, 3, 9, 9, 1, 7, 0, 0, 2, 8, 1, 1, 7, 0, 8,\n",
      "        1, 0, 0, 4, 6, 2, 5, 0, 2, 5, 6, 6, 8, 1, 4, 6])\n",
      "tensor(0.8438)\n"
     ]
    }
   ],
   "source": [
    "pred_Y = torch.argmax(outputs, dim=1)\n",
    "print(pred_Y)\n",
    "print(batch_y)\n",
    "\n",
    "print(torch.sum(batch_y == pred_Y) / len(batch_y))"
   ]
  }
 ],
 "metadata": {
  "kernelspec": {
   "display_name": "base",
   "language": "python",
   "name": "python3"
  },
  "language_info": {
   "codemirror_mode": {
    "name": "ipython",
    "version": 3
   },
   "file_extension": ".py",
   "mimetype": "text/x-python",
   "name": "python",
   "nbconvert_exporter": "python",
   "pygments_lexer": "ipython3",
   "version": "3.11.7"
  }
 },
 "nbformat": 4,
 "nbformat_minor": 5
}
