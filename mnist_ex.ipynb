{
 "cells": [
  {
   "cell_type": "code",
   "execution_count": null,
   "id": "1d769498",
   "metadata": {},
   "outputs": [
    {
     "name": "stdout",
     "output_type": "stream",
     "text": [
      "Training dataset size: 60000\n",
      "Test dataset size: 10000\n",
      "MNIST dataset downloaded successfully.\n",
      "torch.Size([60000, 28, 28])\n"
     ]
    }
   ],
   "source": [
    "import torch\n",
    "# Import MNIST\n",
    "from torchvision import datasets\n",
    "from torchvision.datasets import MNIST\n",
    "\n",
    "# Define the path to save the dataset\n",
    "data_path = 'data'\n",
    "# Download the MNIST dataset\n",
    "mnist_train = MNIST(root=data_path, train=True, download=True)\n",
    "mnist_test = MNIST(root=data_path, train=False, download=True)\n",
    "# Print the size of the training and test datasets\n",
    "print(f\"Training dataset size: {len(mnist_train)}\")\n",
    "print(f\"Test dataset size: {len(mnist_test)}\")\n",
    "print(\"MNIST dataset downloaded successfully.\")\n"
   ]
  },
  {
   "cell_type": "code",
   "execution_count": 14,
   "id": "a277eaf4",
   "metadata": {},
   "outputs": [
    {
     "data": {
      "image/png": "[encoded data removed]",
      "text/plain": [
       "<Figure size 640x480 with 1 Axes>"
      ]
     },
     "metadata": {},
     "output_type": "display_data"
    }
   ],
   "source": [
    "# Print the first image and label\n",
    "import matplotlib.pyplot as plt\n",
    "import random\n",
    "idx = random.randint(0, len(mnist_train) - 1)\n",
    "plt.imshow(mnist_train.data[idx], cmap='gray')\n",
    "plt.title(f\"Label: {mnist_train.targets[idx]}\")\n",
    "plt.show()"
   ]
  },
  {
   "cell_type": "code",
   "execution_count": 42,
   "id": "7cd4104b",
   "metadata": {},
   "outputs": [],
   "source": [
    "import torch\n",
    "\n",
    "class LinearRegression(torch.nn.Module):\n",
    "    def __init__(self):\n",
    "        super(LinearRegression, self).__init__()\n",
    "        self.fc = torch.nn.Sequential(\n",
    "            torch.nn.Linear(28*28, 128),\n",
    "            # torch.nn.ReLU(),\n",
    "            torch.nn.Linear(128, 10)\n",
    "        )\n",
    "\n",
    "    def forward(self, x):\n",
    "        out = self.fc(x)\n",
    "        return out"
   ]
  },
  {
   "cell_type": "code",
   "execution_count": 43,
   "id": "e39f31ac",
   "metadata": {},
   "outputs": [
    {
     "name": "stdout",
     "output_type": "stream",
     "text": [
      "torch.Size([32]) tensor([ 0,  1,  2,  3,  4,  5,  6,  7,  8,  9, 10, 11, 12, 13, 14, 15, 16, 17,\n",
      "        18, 19, 20, 21, 22, 23, 24, 25, 26, 27, 28, 29, 30, 31])\n",
      "torch.Size([32]) tensor([32, 33, 34, 35, 36, 37, 38, 39, 40, 41, 42, 43, 44, 45, 46, 47, 48, 49,\n",
      "        50, 51, 52, 53, 54, 55, 56, 57, 58, 59, 60, 61, 62, 63])\n",
      "torch.Size([32]) tensor([64, 65, 66, 67, 68, 69, 70, 71, 72, 73, 74, 75, 76, 77, 78, 79, 80, 81,\n",
      "        82, 83, 84, 85, 86, 87, 88, 89, 90, 91, 92, 93, 94, 95])\n",
      "torch.Size([4]) tensor([96, 97, 98, 99])\n"
     ]
    }
   ],
   "source": [
    "from torch.utils.data import TensorDataset, DataLoader\n",
    "\n",
    "test = torch.tensor(list(range(100)))\n",
    "test_dataset = TensorDataset(test)\n",
    "test_loader = DataLoader(test_dataset, batch_size=32, shuffle=False)\n",
    "\n",
    "for batch, in test_loader:\n",
    "    print(batch.shape, batch)\n",
    "\n",
    "# for idx in range(0, len(test), 32):\n",
    "#     batch = test[idx:idx+32]"
   ]
  },
  {
   "cell_type": "code",
   "execution_count": 40,
   "id": "2324633f",
   "metadata": {},
   "outputs": [
    {
     "name": "stdout",
     "output_type": "stream",
     "text": [
      "torch.Size([60000, 784]) torch.Size([60000])\n"
     ]
    }
   ],
   "source": [
    "train_X = mnist_train.data.view(60000, 28*28).float() / 255.0\n",
    "train_y = mnist_train.targets\n",
    "\n",
    "# dataloader\n",
    "from torch.utils.data import TensorDataset, DataLoader\n",
    "train_dataset = TensorDataset(train_X, train_y)\n",
    "train_loader = DataLoader(train_dataset, batch_size=64, shuffle=True)\n",
    "print(train_X.shape, train_y.shape)"
   ]
  },
  {
   "cell_type": "code",
   "execution_count": 46,
   "id": "43accefe",
   "metadata": {},
   "outputs": [
    {
     "name": "stdout",
     "output_type": "stream",
     "text": [
      "Epoch [1/10], Loss: 1.0599\n",
      "Epoch [2/10], Loss: 0.4702\n",
      "Epoch [3/10], Loss: 0.3912\n",
      "Epoch [4/10], Loss: 0.3591\n",
      "Epoch [5/10], Loss: 0.3406\n",
      "Epoch [6/10], Loss: 0.3285\n",
      "Epoch [7/10], Loss: 0.3195\n",
      "Epoch [8/10], Loss: 0.3126\n",
      "Epoch [9/10], Loss: 0.3071\n",
      "Epoch [10/10], Loss: 0.3024\n"
     ]
    }
   ],
   "source": [
    "# Train the model\n",
    "model = LinearRegression()\n",
    "criterion = torch.nn.CrossEntropyLoss()\n",
    "optimizer = torch.optim.SGD(model.parameters(), lr=0.01)\n",
    "# optimizer = torch.optim.Adam(model.parameters(), lr=0.01)\n",
    "\n",
    "for epoch in range(10):\n",
    "    total_loss = 0.0\n",
    "    for batch_X, batch_y in train_loader:\n",
    "        optimizer.zero_grad()\n",
    "        # print(batch_X.shape, batch_y.shape)\n",
    "        # torch.Size([64, 784]) torch.Size([64])\n",
    "        outputs = model(batch_X)\n",
    "        # print(outputs.shape, batch_y.shape)\n",
    "        # torch.Size([64, 10]) torch.Size([64])\n",
    "        \n",
    "        loss = criterion(outputs, batch_y)\n",
    "        loss.backward()\n",
    "        optimizer.step()\n",
    "        total_loss += loss.item()\n",
    "    loss = total_loss / len(train_loader)\n",
    "    print(f\"Epoch [{epoch+1}/10], Loss: {loss:.4f}\")"
   ]
  }
 ],
 "metadata": {
  "kernelspec": {
   "display_name": "base",
   "language": "python",
   "name": "python3"
  },
  "language_info": {
   "codemirror_mode": {
    "name": "ipython",
    "version": 3
   },
   "file_extension": ".py",
   "mimetype": "text/x-python",
   "name": "python",
   "nbconvert_exporter": "python",
   "pygments_lexer": "ipython3",
   "version": "3.11.7"
  }
 },
 "nbformat": 4,
 "nbformat_minor": 5
}
