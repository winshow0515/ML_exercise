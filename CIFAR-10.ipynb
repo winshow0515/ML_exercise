{
 "cells": [
  {
   "cell_type": "code",
   "execution_count": 42,
   "id": "fd589ae3",
   "metadata": {},
   "outputs": [
    {
     "name": "stdout",
     "output_type": "stream",
     "text": [
      "Training dataset size: 50000\n",
      "Test dataset size: 10000\n",
      "MNIST dataset downloaded successfully.\n"
     ]
    }
   ],
   "source": [
    "# 引入模組\n",
    "import torch\n",
    "from torchvision import datasets\n",
    "from torchvision.datasets import CIFAR10\n",
    "import torchvision.transforms as transforms\n",
    "\n",
    "# Define the path to save the dataset\n",
    "data_path = 'data'\n",
    "transform = transforms.ToTensor()\n",
    "cifar10_train = CIFAR10(root=data_path, train=True, download=True, transform=transform)\n",
    "cifar10_test = CIFAR10(root=data_path, train=False, download=True, transform=transform)\n",
    "\n",
    "print(f\"Training dataset size: {len(cifar10_train)}\")\n",
    "print(f\"Test dataset size: {len(cifar10_test)}\")\n",
    "print(\"MNIST dataset downloaded successfully.\")"
   ]
  },
  {
   "cell_type": "code",
   "execution_count": 43,
   "id": "6b582f90",
   "metadata": {},
   "outputs": [
    {
     "data": {
      "image/png": "[encoded data removed]",
      "text/plain": [
       "<Figure size 640x480 with 1 Axes>"
      ]
     },
     "metadata": {},
     "output_type": "display_data"
    }
   ],
   "source": [
    "# 看看看資料集有多大和它的內容\n",
    "import matplotlib.pyplot as plt\n",
    "import random\n",
    "\n",
    "# 隨機選一張\n",
    "idx = random.randint(0, len(cifar10_train) - 1)\n",
    "image, label = cifar10_train[idx]   # image 是 [3, 32, 32] tensor\n",
    "image = image.permute(1, 2, 0).numpy() # 轉換成 numpy 並調整維度 [H, W, C]\n",
    "\n",
    "# 顯示\n",
    "plt.imshow(image)\n",
    "plt.title(f\"Label: {cifar10_train.classes[label]}\")  # 轉成文字標籤\n",
    "plt.show()"
   ]
  },
  {
   "cell_type": "code",
   "execution_count": 44,
   "id": "f57038a0",
   "metadata": {},
   "outputs": [],
   "source": [
    "# 設計模型(我的圖片是彩色的)\n",
    "import torch\n",
    "\n",
    "class CNN(torch.nn.Module):\n",
    "    def __init__(self):\n",
    "        super(CNN, self).__init__()\n",
    "        self.fc = torch.nn.Sequential(\n",
    "            # 把輸入通道數從 1 改成 3（因為 CIFAR-10 是 RGB）\n",
    "            torch.nn.Conv2d(3, 32, kernel_size=3, stride=1, padding=1),  # 32x32 -> 32x32\n",
    "            torch.nn.ReLU(),\n",
    "            torch.nn.MaxPool2d(kernel_size=2, stride=2),  # 32x32 -> 16x16\n",
    "\n",
    "            torch.nn.Conv2d(32, 64, kernel_size=3, stride=1, padding=1), # 16x16 -> 16x16\n",
    "            torch.nn.ReLU(),\n",
    "            torch.nn.MaxPool2d(kernel_size=2, stride=2),  # 16x16 -> 8x8\n",
    "\n",
    "            torch.nn.Flatten(),\n",
    "            torch.nn.Linear(64 * 8 * 8, 128),  # 64*8*8 = 4096\n",
    "            torch.nn.ReLU(),\n",
    "            torch.nn.Linear(128, 10)  # CIFAR-10 有 10 類\n",
    "        )\n",
    "\n",
    "    def forward(self, x):\n",
    "        out = self.fc(x)\n",
    "        return out\n"
   ]
  },
  {
   "cell_type": "code",
   "execution_count": null,
   "id": "0a5a5847",
   "metadata": {},
   "outputs": [
    {
     "name": "stderr",
     "output_type": "stream",
     "text": [
      "100%|██████████| 782/782 [00:22<00:00, 34.88it/s]\n",
      "100%|██████████| 157/157 [00:02<00:00, 61.29it/s]\n"
     ]
    },
    {
     "name": "stdout",
     "output_type": "stream",
     "text": [
      "Epoch [  1/100], Train Loss: 1.8122, Accuracy: 0.3612 Val Loss: 1.5841, Val Accuracy: 0.4408\n"
     ]
    },
    {
     "name": "stderr",
     "output_type": "stream",
     "text": [
      "100%|██████████| 782/782 [00:22<00:00, 35.28it/s]\n",
      "100%|██████████| 157/157 [00:02<00:00, 59.61it/s]\n"
     ]
    },
    {
     "name": "stdout",
     "output_type": "stream",
     "text": [
      "Epoch [  2/100], Train Loss: 1.5347, Accuracy: 0.4566 Val Loss: 1.4577, Val Accuracy: 0.4816\n"
     ]
    },
    {
     "name": "stderr",
     "output_type": "stream",
     "text": [
      "100%|██████████| 782/782 [00:24<00:00, 32.47it/s]\n",
      "100%|██████████| 157/157 [00:02<00:00, 55.44it/s]\n"
     ]
    },
    {
     "name": "stdout",
     "output_type": "stream",
     "text": [
      "Epoch [  3/100], Train Loss: 1.4235, Accuracy: 0.4959 Val Loss: 1.3634, Val Accuracy: 0.5197\n"
     ]
    },
    {
     "name": "stderr",
     "output_type": "stream",
     "text": [
      "100%|██████████| 782/782 [00:24<00:00, 32.14it/s]\n",
      "100%|██████████| 157/157 [00:02<00:00, 55.13it/s]\n"
     ]
    },
    {
     "name": "stdout",
     "output_type": "stream",
     "text": [
      "Epoch [  4/100], Train Loss: 1.3458, Accuracy: 0.5235 Val Loss: 1.3072, Val Accuracy: 0.5396\n"
     ]
    },
    {
     "name": "stderr",
     "output_type": "stream",
     "text": [
      "100%|██████████| 782/782 [00:24<00:00, 32.07it/s]\n",
      "100%|██████████| 157/157 [00:02<00:00, 55.26it/s]\n"
     ]
    },
    {
     "name": "stdout",
     "output_type": "stream",
     "text": [
      "Epoch [  5/100], Train Loss: 1.2879, Accuracy: 0.5454 Val Loss: 1.2621, Val Accuracy: 0.5563\n"
     ]
    },
    {
     "name": "stderr",
     "output_type": "stream",
     "text": [
      "100%|██████████| 782/782 [00:24<00:00, 32.26it/s]\n",
      "100%|██████████| 157/157 [00:02<00:00, 54.92it/s]\n"
     ]
    },
    {
     "name": "stdout",
     "output_type": "stream",
     "text": [
      "Epoch [  6/100], Train Loss: 1.2406, Accuracy: 0.5650 Val Loss: 1.2238, Val Accuracy: 0.5709\n"
     ]
    },
    {
     "name": "stderr",
     "output_type": "stream",
     "text": [
      "100%|██████████| 782/782 [00:24<00:00, 32.03it/s]\n",
      "100%|██████████| 157/157 [00:02<00:00, 55.29it/s]\n"
     ]
    },
    {
     "name": "stdout",
     "output_type": "stream",
     "text": [
      "Epoch [  7/100], Train Loss: 1.2006, Accuracy: 0.5783 Val Loss: 1.1917, Val Accuracy: 0.5795\n"
     ]
    },
    {
     "name": "stderr",
     "output_type": "stream",
     "text": [
      "100%|██████████| 782/782 [00:24<00:00, 31.59it/s]\n",
      "100%|██████████| 157/157 [00:02<00:00, 54.54it/s]\n"
     ]
    },
    {
     "name": "stdout",
     "output_type": "stream",
     "text": [
      "Epoch [  8/100], Train Loss: 1.1653, Accuracy: 0.5910 Val Loss: 1.1622, Val Accuracy: 0.5898\n"
     ]
    },
    {
     "name": "stderr",
     "output_type": "stream",
     "text": [
      "100%|██████████| 782/782 [00:24<00:00, 32.20it/s]\n",
      "100%|██████████| 157/157 [00:02<00:00, 55.64it/s]\n"
     ]
    },
    {
     "name": "stdout",
     "output_type": "stream",
     "text": [
      "Epoch [  9/100], Train Loss: 1.1337, Accuracy: 0.6027 Val Loss: 1.1318, Val Accuracy: 0.6059\n"
     ]
    },
    {
     "name": "stderr",
     "output_type": "stream",
     "text": [
      "100%|██████████| 782/782 [00:24<00:00, 32.34it/s]\n",
      "100%|██████████| 157/157 [00:02<00:00, 55.81it/s]\n"
     ]
    },
    {
     "name": "stdout",
     "output_type": "stream",
     "text": [
      "Epoch [ 10/100], Train Loss: 1.1034, Accuracy: 0.6124 Val Loss: 1.1158, Val Accuracy: 0.6046\n"
     ]
    },
    {
     "name": "stderr",
     "output_type": "stream",
     "text": [
      "100%|██████████| 782/782 [00:24<00:00, 32.30it/s]\n",
      "100%|██████████| 157/157 [00:02<00:00, 55.89it/s]\n"
     ]
    },
    {
     "name": "stdout",
     "output_type": "stream",
     "text": [
      "Epoch [ 11/100], Train Loss: 1.0742, Accuracy: 0.6244 Val Loss: 1.0850, Val Accuracy: 0.6229\n"
     ]
    },
    {
     "name": "stderr",
     "output_type": "stream",
     "text": [
      "100%|██████████| 782/782 [00:24<00:00, 32.21it/s]\n",
      "100%|██████████| 157/157 [00:02<00:00, 56.19it/s]\n"
     ]
    },
    {
     "name": "stdout",
     "output_type": "stream",
     "text": [
      "Epoch [ 12/100], Train Loss: 1.0508, Accuracy: 0.6333 Val Loss: 1.0672, Val Accuracy: 0.6272\n"
     ]
    },
    {
     "name": "stderr",
     "output_type": "stream",
     "text": [
      "100%|██████████| 782/782 [00:24<00:00, 32.30it/s]\n",
      "100%|██████████| 157/157 [00:02<00:00, 55.99it/s]\n"
     ]
    },
    {
     "name": "stdout",
     "output_type": "stream",
     "text": [
      "Epoch [ 13/100], Train Loss: 1.0253, Accuracy: 0.6410 Val Loss: 1.0485, Val Accuracy: 0.6313\n"
     ]
    },
    {
     "name": "stderr",
     "output_type": "stream",
     "text": [
      "100%|██████████| 782/782 [00:24<00:00, 32.41it/s]\n",
      "100%|██████████| 157/157 [00:02<00:00, 55.95it/s]\n"
     ]
    },
    {
     "name": "stdout",
     "output_type": "stream",
     "text": [
      "Epoch [ 14/100], Train Loss: 1.0050, Accuracy: 0.6486 Val Loss: 1.0452, Val Accuracy: 0.6310\n"
     ]
    },
    {
     "name": "stderr",
     "output_type": "stream",
     "text": [
      "100%|██████████| 782/782 [00:24<00:00, 32.55it/s]\n",
      "100%|██████████| 157/157 [00:02<00:00, 55.00it/s]\n"
     ]
    },
    {
     "name": "stdout",
     "output_type": "stream",
     "text": [
      "Epoch [ 15/100], Train Loss: 0.9825, Accuracy: 0.6572 Val Loss: 1.0260, Val Accuracy: 0.6458\n"
     ]
    },
    {
     "name": "stderr",
     "output_type": "stream",
     "text": [
      "100%|██████████| 782/782 [00:24<00:00, 32.42it/s]\n",
      "100%|██████████| 157/157 [00:02<00:00, 57.28it/s]\n"
     ]
    },
    {
     "name": "stdout",
     "output_type": "stream",
     "text": [
      "Epoch [ 16/100], Train Loss: 0.9644, Accuracy: 0.6646 Val Loss: 1.0129, Val Accuracy: 0.6474\n"
     ]
    },
    {
     "name": "stderr",
     "output_type": "stream",
     "text": [
      "100%|██████████| 782/782 [00:24<00:00, 32.26it/s]\n",
      "100%|██████████| 157/157 [00:02<00:00, 55.85it/s]\n"
     ]
    },
    {
     "name": "stdout",
     "output_type": "stream",
     "text": [
      "Epoch [ 17/100], Train Loss: 0.9469, Accuracy: 0.6695 Val Loss: 0.9977, Val Accuracy: 0.6508\n"
     ]
    },
    {
     "name": "stderr",
     "output_type": "stream",
     "text": [
      "100%|██████████| 782/782 [00:24<00:00, 32.48it/s]\n",
      "100%|██████████| 157/157 [00:02<00:00, 55.55it/s]\n"
     ]
    },
    {
     "name": "stdout",
     "output_type": "stream",
     "text": [
      "Epoch [ 18/100], Train Loss: 0.9278, Accuracy: 0.6781 Val Loss: 0.9857, Val Accuracy: 0.6573\n"
     ]
    },
    {
     "name": "stderr",
     "output_type": "stream",
     "text": [
      "100%|██████████| 782/782 [00:24<00:00, 32.03it/s]\n",
      "100%|██████████| 157/157 [00:02<00:00, 55.74it/s]\n"
     ]
    },
    {
     "name": "stdout",
     "output_type": "stream",
     "text": [
      "Epoch [ 19/100], Train Loss: 0.9135, Accuracy: 0.6840 Val Loss: 0.9762, Val Accuracy: 0.6631\n"
     ]
    },
    {
     "name": "stderr",
     "output_type": "stream",
     "text": [
      "100%|██████████| 782/782 [00:24<00:00, 32.20it/s]\n",
      "100%|██████████| 157/157 [00:02<00:00, 52.52it/s]\n"
     ]
    },
    {
     "name": "stdout",
     "output_type": "stream",
     "text": [
      "Epoch [ 20/100], Train Loss: 0.8939, Accuracy: 0.6884 Val Loss: 0.9919, Val Accuracy: 0.6596\n"
     ]
    },
    {
     "name": "stderr",
     "output_type": "stream",
     "text": [
      "100%|██████████| 782/782 [00:25<00:00, 30.60it/s]\n",
      "100%|██████████| 157/157 [00:02<00:00, 55.06it/s]\n"
     ]
    },
    {
     "name": "stdout",
     "output_type": "stream",
     "text": [
      "Epoch [ 21/100], Train Loss: 0.8817, Accuracy: 0.6922 Val Loss: 0.9632, Val Accuracy: 0.6658\n"
     ]
    },
    {
     "name": "stderr",
     "output_type": "stream",
     "text": [
      "100%|██████████| 782/782 [00:24<00:00, 31.96it/s]\n",
      "100%|██████████| 157/157 [00:02<00:00, 54.80it/s]\n"
     ]
    },
    {
     "name": "stdout",
     "output_type": "stream",
     "text": [
      "Epoch [ 22/100], Train Loss: 0.8690, Accuracy: 0.6969 Val Loss: 0.9928, Val Accuracy: 0.6612\n"
     ]
    },
    {
     "name": "stderr",
     "output_type": "stream",
     "text": [
      "100%|██████████| 782/782 [00:24<00:00, 32.13it/s]\n",
      "100%|██████████| 157/157 [00:02<00:00, 54.46it/s]\n"
     ]
    },
    {
     "name": "stdout",
     "output_type": "stream",
     "text": [
      "Epoch [ 23/100], Train Loss: 0.8523, Accuracy: 0.7050 Val Loss: 0.9436, Val Accuracy: 0.6738\n"
     ]
    },
    {
     "name": "stderr",
     "output_type": "stream",
     "text": [
      "100%|██████████| 782/782 [00:24<00:00, 31.79it/s]\n",
      "100%|██████████| 157/157 [00:02<00:00, 56.70it/s]\n"
     ]
    },
    {
     "name": "stdout",
     "output_type": "stream",
     "text": [
      "Epoch [ 24/100], Train Loss: 0.8418, Accuracy: 0.7078 Val Loss: 0.9389, Val Accuracy: 0.6776\n"
     ]
    },
    {
     "name": "stderr",
     "output_type": "stream",
     "text": [
      "100%|██████████| 782/782 [00:24<00:00, 32.19it/s]\n",
      "100%|██████████| 157/157 [00:02<00:00, 54.63it/s]\n"
     ]
    },
    {
     "name": "stdout",
     "output_type": "stream",
     "text": [
      "Epoch [ 25/100], Train Loss: 0.8275, Accuracy: 0.7113 Val Loss: 0.9353, Val Accuracy: 0.6777\n"
     ]
    },
    {
     "name": "stderr",
     "output_type": "stream",
     "text": [
      "100%|██████████| 782/782 [00:24<00:00, 32.27it/s]\n",
      "100%|██████████| 157/157 [00:02<00:00, 55.12it/s]\n"
     ]
    },
    {
     "name": "stdout",
     "output_type": "stream",
     "text": [
      "Epoch [ 26/100], Train Loss: 0.8159, Accuracy: 0.7165 Val Loss: 0.9435, Val Accuracy: 0.6753\n"
     ]
    },
    {
     "name": "stderr",
     "output_type": "stream",
     "text": [
      "100%|██████████| 782/782 [00:24<00:00, 31.90it/s]\n",
      "100%|██████████| 157/157 [00:02<00:00, 55.56it/s]\n"
     ]
    },
    {
     "name": "stdout",
     "output_type": "stream",
     "text": [
      "Epoch [ 27/100], Train Loss: 0.8052, Accuracy: 0.7215 Val Loss: 0.9319, Val Accuracy: 0.6779\n"
     ]
    },
    {
     "name": "stderr",
     "output_type": "stream",
     "text": [
      "100%|██████████| 782/782 [00:24<00:00, 32.13it/s]\n",
      "100%|██████████| 157/157 [00:02<00:00, 54.22it/s]\n"
     ]
    },
    {
     "name": "stdout",
     "output_type": "stream",
     "text": [
      "Epoch [ 28/100], Train Loss: 0.7936, Accuracy: 0.7253 Val Loss: 0.9219, Val Accuracy: 0.6828\n"
     ]
    },
    {
     "name": "stderr",
     "output_type": "stream",
     "text": [
      "100%|██████████| 782/782 [00:24<00:00, 31.32it/s]\n",
      "100%|██████████| 157/157 [00:02<00:00, 54.75it/s]\n"
     ]
    },
    {
     "name": "stdout",
     "output_type": "stream",
     "text": [
      "Epoch [ 29/100], Train Loss: 0.7797, Accuracy: 0.7292 Val Loss: 0.9415, Val Accuracy: 0.6801\n"
     ]
    },
    {
     "name": "stderr",
     "output_type": "stream",
     "text": [
      "100%|██████████| 782/782 [00:24<00:00, 32.37it/s]\n",
      "100%|██████████| 157/157 [00:02<00:00, 53.34it/s]\n"
     ]
    },
    {
     "name": "stdout",
     "output_type": "stream",
     "text": [
      "Epoch [ 30/100], Train Loss: 0.7716, Accuracy: 0.7322 Val Loss: 0.9173, Val Accuracy: 0.6826\n"
     ]
    },
    {
     "name": "stderr",
     "output_type": "stream",
     "text": [
      "100%|██████████| 782/782 [00:24<00:00, 32.16it/s]\n",
      "100%|██████████| 157/157 [00:02<00:00, 53.28it/s]\n"
     ]
    },
    {
     "name": "stdout",
     "output_type": "stream",
     "text": [
      "Epoch [ 31/100], Train Loss: 0.7588, Accuracy: 0.7368 Val Loss: 0.9113, Val Accuracy: 0.6879\n"
     ]
    },
    {
     "name": "stderr",
     "output_type": "stream",
     "text": [
      "100%|██████████| 782/782 [00:24<00:00, 32.10it/s]\n",
      "100%|██████████| 157/157 [00:02<00:00, 54.04it/s]\n"
     ]
    },
    {
     "name": "stdout",
     "output_type": "stream",
     "text": [
      "Epoch [ 32/100], Train Loss: 0.7490, Accuracy: 0.7403 Val Loss: 0.9263, Val Accuracy: 0.6835\n"
     ]
    },
    {
     "name": "stderr",
     "output_type": "stream",
     "text": [
      "100%|██████████| 782/782 [00:24<00:00, 32.35it/s]\n",
      "100%|██████████| 157/157 [00:02<00:00, 54.49it/s]\n"
     ]
    },
    {
     "name": "stdout",
     "output_type": "stream",
     "text": [
      "Epoch [ 33/100], Train Loss: 0.7392, Accuracy: 0.7453 Val Loss: 0.9051, Val Accuracy: 0.6946\n"
     ]
    },
    {
     "name": "stderr",
     "output_type": "stream",
     "text": [
      "100%|██████████| 782/782 [00:24<00:00, 32.18it/s]\n",
      "100%|██████████| 157/157 [00:03<00:00, 52.15it/s]\n"
     ]
    },
    {
     "name": "stdout",
     "output_type": "stream",
     "text": [
      "Epoch [ 34/100], Train Loss: 0.7257, Accuracy: 0.7488 Val Loss: 0.9025, Val Accuracy: 0.6898\n"
     ]
    },
    {
     "name": "stderr",
     "output_type": "stream",
     "text": [
      "100%|██████████| 782/782 [00:24<00:00, 32.46it/s]\n",
      "100%|██████████| 157/157 [00:02<00:00, 55.70it/s]\n"
     ]
    },
    {
     "name": "stdout",
     "output_type": "stream",
     "text": [
      "Epoch [ 35/100], Train Loss: 0.7186, Accuracy: 0.7523 Val Loss: 0.8988, Val Accuracy: 0.6891\n"
     ]
    },
    {
     "name": "stderr",
     "output_type": "stream",
     "text": [
      "100%|██████████| 782/782 [00:24<00:00, 31.82it/s]\n",
      "100%|██████████| 157/157 [00:02<00:00, 56.13it/s]\n"
     ]
    },
    {
     "name": "stdout",
     "output_type": "stream",
     "text": [
      "Epoch [ 36/100], Train Loss: 0.7067, Accuracy: 0.7566 Val Loss: 0.9261, Val Accuracy: 0.6870\n"
     ]
    },
    {
     "name": "stderr",
     "output_type": "stream",
     "text": [
      "100%|██████████| 782/782 [00:24<00:00, 32.15it/s]\n",
      "100%|██████████| 157/157 [00:02<00:00, 54.91it/s]\n"
     ]
    },
    {
     "name": "stdout",
     "output_type": "stream",
     "text": [
      "Epoch [ 37/100], Train Loss: 0.6987, Accuracy: 0.7588 Val Loss: 0.8993, Val Accuracy: 0.6951\n"
     ]
    },
    {
     "name": "stderr",
     "output_type": "stream",
     "text": [
      "100%|██████████| 782/782 [00:25<00:00, 31.26it/s]\n",
      "100%|██████████| 157/157 [00:02<00:00, 55.14it/s]\n"
     ]
    },
    {
     "name": "stdout",
     "output_type": "stream",
     "text": [
      "Epoch [ 38/100], Train Loss: 0.6885, Accuracy: 0.7629 Val Loss: 0.8982, Val Accuracy: 0.6950\n"
     ]
    },
    {
     "name": "stderr",
     "output_type": "stream",
     "text": [
      "100%|██████████| 782/782 [00:24<00:00, 31.88it/s]\n",
      "100%|██████████| 157/157 [00:02<00:00, 54.89it/s]\n"
     ]
    },
    {
     "name": "stdout",
     "output_type": "stream",
     "text": [
      "Epoch [ 39/100], Train Loss: 0.6796, Accuracy: 0.7666 Val Loss: 0.8933, Val Accuracy: 0.6967\n"
     ]
    },
    {
     "name": "stderr",
     "output_type": "stream",
     "text": [
      "100%|██████████| 782/782 [00:24<00:00, 31.73it/s]\n",
      "100%|██████████| 157/157 [00:02<00:00, 54.56it/s]\n"
     ]
    },
    {
     "name": "stdout",
     "output_type": "stream",
     "text": [
      "Epoch [ 40/100], Train Loss: 0.6690, Accuracy: 0.7702 Val Loss: 0.9002, Val Accuracy: 0.6980\n"
     ]
    },
    {
     "name": "stderr",
     "output_type": "stream",
     "text": [
      "100%|██████████| 782/782 [00:24<00:00, 31.58it/s]\n",
      "100%|██████████| 157/157 [00:02<00:00, 54.63it/s]\n"
     ]
    },
    {
     "name": "stdout",
     "output_type": "stream",
     "text": [
      "Epoch [ 41/100], Train Loss: 0.6598, Accuracy: 0.7737 Val Loss: 0.8881, Val Accuracy: 0.7004\n"
     ]
    },
    {
     "name": "stderr",
     "output_type": "stream",
     "text": [
      "100%|██████████| 782/782 [00:25<00:00, 30.78it/s]\n",
      "100%|██████████| 157/157 [00:02<00:00, 52.54it/s]\n"
     ]
    },
    {
     "name": "stdout",
     "output_type": "stream",
     "text": [
      "Epoch [ 42/100], Train Loss: 0.6492, Accuracy: 0.7787 Val Loss: 0.9031, Val Accuracy: 0.6952\n"
     ]
    },
    {
     "name": "stderr",
     "output_type": "stream",
     "text": [
      "100%|██████████| 782/782 [00:24<00:00, 32.23it/s]\n",
      "100%|██████████| 157/157 [00:02<00:00, 55.21it/s]\n"
     ]
    },
    {
     "name": "stdout",
     "output_type": "stream",
     "text": [
      "Epoch [ 43/100], Train Loss: 0.6419, Accuracy: 0.7805 Val Loss: 0.9036, Val Accuracy: 0.6970\n"
     ]
    },
    {
     "name": "stderr",
     "output_type": "stream",
     "text": [
      "100%|██████████| 782/782 [00:25<00:00, 30.85it/s]\n",
      "100%|██████████| 157/157 [00:03<00:00, 49.75it/s]\n"
     ]
    },
    {
     "name": "stdout",
     "output_type": "stream",
     "text": [
      "Epoch [ 44/100], Train Loss: 0.6354, Accuracy: 0.7813 Val Loss: 0.9183, Val Accuracy: 0.6963\n"
     ]
    },
    {
     "name": "stderr",
     "output_type": "stream",
     "text": [
      "100%|██████████| 782/782 [00:24<00:00, 31.66it/s]\n",
      "100%|██████████| 157/157 [00:03<00:00, 50.18it/s]\n"
     ]
    },
    {
     "name": "stdout",
     "output_type": "stream",
     "text": [
      "Epoch [ 45/100], Train Loss: 0.6248, Accuracy: 0.7869 Val Loss: 0.8952, Val Accuracy: 0.6976\n"
     ]
    },
    {
     "name": "stderr",
     "output_type": "stream",
     "text": [
      "100%|██████████| 782/782 [00:24<00:00, 32.38it/s]\n",
      "100%|██████████| 157/157 [00:02<00:00, 55.73it/s]\n"
     ]
    },
    {
     "name": "stdout",
     "output_type": "stream",
     "text": [
      "Epoch [ 46/100], Train Loss: 0.6168, Accuracy: 0.7880 Val Loss: 0.8933, Val Accuracy: 0.6996\n"
     ]
    },
    {
     "name": "stderr",
     "output_type": "stream",
     "text": [
      "100%|██████████| 782/782 [00:24<00:00, 31.86it/s]\n",
      "100%|██████████| 157/157 [00:02<00:00, 57.66it/s]\n"
     ]
    },
    {
     "name": "stdout",
     "output_type": "stream",
     "text": [
      "Epoch [ 47/100], Train Loss: 0.6077, Accuracy: 0.7921 Val Loss: 0.8931, Val Accuracy: 0.7039\n"
     ]
    },
    {
     "name": "stderr",
     "output_type": "stream",
     "text": [
      "100%|██████████| 782/782 [00:23<00:00, 33.73it/s]\n",
      "100%|██████████| 157/157 [00:02<00:00, 57.03it/s]\n"
     ]
    },
    {
     "name": "stdout",
     "output_type": "stream",
     "text": [
      "Epoch [ 48/100], Train Loss: 0.5974, Accuracy: 0.7962 Val Loss: 0.9229, Val Accuracy: 0.6931\n"
     ]
    },
    {
     "name": "stderr",
     "output_type": "stream",
     "text": [
      "100%|██████████| 782/782 [00:24<00:00, 32.20it/s]\n",
      "100%|██████████| 157/157 [00:02<00:00, 55.03it/s]\n"
     ]
    },
    {
     "name": "stdout",
     "output_type": "stream",
     "text": [
      "Epoch [ 49/100], Train Loss: 0.5912, Accuracy: 0.7978 Val Loss: 0.8922, Val Accuracy: 0.7022\n"
     ]
    },
    {
     "name": "stderr",
     "output_type": "stream",
     "text": [
      "100%|██████████| 782/782 [00:24<00:00, 32.08it/s]\n",
      "100%|██████████| 157/157 [00:02<00:00, 56.49it/s]"
     ]
    },
    {
     "name": "stdout",
     "output_type": "stream",
     "text": [
      "Epoch [ 50/100], Train Loss: 0.5818, Accuracy: 0.8022 Val Loss: 0.8918, Val Accuracy: 0.7017\n"
     ]
    },
    {
     "name": "stderr",
     "output_type": "stream",
     "text": [
      "\n"
     ]
    }
   ],
   "source": [
    "# dataloader\n",
    "from torch.utils.data import TensorDataset, DataLoader\n",
    "train_loader = DataLoader(cifar10_train, batch_size=64, shuffle=True)\n",
    "test_loader = DataLoader(cifar10_test, batch_size=64, shuffle=False)\n",
    "\n",
    "# Train the model(有進度條可以看進度，準確率換算成百分比)\n",
    "from tqdm import tqdm\n",
    "\n",
    "model = CNN()\n",
    "criterion = torch.nn.CrossEntropyLoss()\n",
    "optimizer = torch.optim.Adam(model.parameters(), lr=1e-4)\n",
    "for epoch in range(50):\n",
    "    total_loss = 0.0\n",
    "    total_hit = 0\n",
    "    for batch_X, batch_y in tqdm(train_loader, total=len(train_loader)):\n",
    "        optimizer.zero_grad()\n",
    "        outputs = model(batch_X)\n",
    "        loss = criterion(outputs, batch_y)\n",
    "        loss.backward()\n",
    "        optimizer.step()\n",
    "        total_loss += loss.item()\n",
    "        total_hit += torch.sum(batch_y == torch.argmax(outputs, dim=1)).item()\n",
    "    train_loss = total_loss / len(train_loader)\n",
    "    train_accuracy = total_hit / len(train_loader.dataset)\n",
    "\n",
    "\n",
    "    total_loss = 0.0\n",
    "    total_hit = 0\n",
    "    with torch.no_grad():\n",
    "        for batch_X, batch_y in tqdm(test_loader, total=len(test_loader)):\n",
    "            outputs = model(batch_X)\n",
    "            loss = criterion(outputs, batch_y)\n",
    "            total_loss += loss.item()\n",
    "            total_hit += torch.sum(batch_y == torch.argmax(outputs, dim=1)).item()\n",
    "    test_loss = total_loss / len(test_loader)\n",
    "    test_accuracy = total_hit / len(test_loader.dataset)\n",
    "    print(f\"Epoch [{epoch+1:3d}/50], Train Loss: {train_loss:.4f}, Accuracy: {train_accuracy:.4f} Val Loss: {test_loss:.4f}, Val Accuracy: {test_accuracy:.4f}\")\n",
    "\n",
    "#Epoch [ 50/100], Train Loss: 0.5818, Accuracy: 0.8022 Val Loss: 0.8918, Val Accuracy: 0.7017\n",
    "#Epoch [ 47/100], Train Loss: 0.6077, Accuracy: 0.7921 Val Loss: 0.8931, Val Accuracy: 0.7039\n"
   ]
  }
 ],
 "metadata": {
  "kernelspec": {
   "display_name": "Python 3",
   "language": "python",
   "name": "python3"
  },
  "language_info": {
   "codemirror_mode": {
    "name": "ipython",
    "version": 3
   },
   "file_extension": ".py",
   "mimetype": "text/x-python",
   "name": "python",
   "nbconvert_exporter": "python",
   "pygments_lexer": "ipython3",
   "version": "3.13.5"
  }
 },
 "nbformat": 4,
 "nbformat_minor": 5
}
