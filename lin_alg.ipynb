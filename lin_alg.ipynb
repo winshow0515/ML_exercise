{
 "cells": [
  {
   "cell_type": "code",
   "execution_count": null,
   "id": "86db600d",
   "metadata": {
    "vscode": {
     "languageId": "plaintext"
    }
   },
   "outputs": [],
   "source": [
    "import numpy as np\n",
    "\n",
    "# BMI = 17~23\n",
    "BMI = np.random.randn(100) * 4 + 22\n",
    "H = np.random.randn(100) * 8 + 170\n",
    "W = BMI * (H / 100) ** 2\n",
    "\n",
    "import matplotlib.pyplot as plt\n",
    "# import matplotlib as mpl\n",
    "# mpl.rcParams['axes.unicode_minus'] = False\n",
    "plt.scatter(H, W)\n",
    "plt.xlim(140, 195)\n",
    "plt.ylim(30, 120)\n",
    "plt.xlabel('Height')\n",
    "plt.ylabel('Weight')\n",
    "plt.title(\"Random Weight and Height\")\n",
    "\n",
    "w1, b1 = 1.2, -140\n",
    "w2, b2 = 1.3, -160\n",
    "\n",
    "pred_1 = H * w1 + b1\n",
    "loss_1 = np.mean((W - pred_1) ** 2)\n",
    "pred_2 = H * w2 + b2\n",
    "loss_2 = np.mean((W - pred_2) ** 2)\n",
    "print(\"Loss 1:\", loss_1)\n",
    "print(\"Loss 2:\", loss_2)\n",
    "\n",
    "plot_x = np.array([140, 195])\n",
    "plt.plot(plot_x, plot_x * w1 + b1, c='red')\n",
    "plt.plot(plot_x, plot_x * w2 + b2, c='green')\n",
    "plt.show()"
   ]
  }
 ],
 "metadata": {
  "language_info": {
   "name": "python"
  }
 },
 "nbformat": 4,
 "nbformat_minor": 5
}
