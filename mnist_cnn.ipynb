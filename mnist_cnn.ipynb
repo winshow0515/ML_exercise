{
 "cells": [
  {
   "cell_type": "code",
   "execution_count": null,
   "id": "1d769498",
   "metadata": {},
   "outputs": [
    {
     "name": "stdout",
     "output_type": "stream",
     "text": [
      "Training dataset size: 60000\n",
      "Test dataset size: 10000\n",
      "MNIST dataset downloaded successfully.\n"
     ]
    }
   ],
   "source": [
    "import torch\n",
    "# Import MNIST\n",
    "from torchvision import datasets\n",
    "from torchvision.datasets import MNIST\n",
    "\n",
    "# Define the path to save the dataset\n",
    "data_path = 'data'\n",
    "# Download the MNIST dataset\n",
    "mnist_train = MNIST(root=data_path, train=True, download=True) #建立訓練資料集\n",
    "mnist_test = MNIST(root=data_path, train=False, download=True) #建立測試資料集\n",
    "# Print the size of the training and test datasets\n",
    "print(f\"Training dataset size: {len(mnist_train)}\")\n",
    "print(f\"Test dataset size: {len(mnist_test)}\")\n",
    "print(\"MNIST dataset downloaded successfully.\")"
   ]
  },
  {
   "cell_type": "code",
   "execution_count": 3,
   "id": "a277eaf4",
   "metadata": {},
   "outputs": [
    {
     "data": {
      "image/png": "[encoded data removed]",
      "text/plain": [
       "<Figure size 640x480 with 1 Axes>"
      ]
     },
     "metadata": {},
     "output_type": "display_data"
    }
   ],
   "source": [
    "# Print the first image and label\n",
    "import matplotlib.pyplot as plt\n",
    "import random\n",
    "idx = random.randint(0, len(mnist_train) - 1)\n",
    "plt.imshow(mnist_train.data[idx], cmap='gray')\n",
    "plt.title(f\"Label: {mnist_train.targets[idx]}\")\n",
    "plt.show()"
   ]
  },
  {
   "cell_type": "code",
   "execution_count": null,
   "id": "7cd4104b",
   "metadata": {},
   "outputs": [],
   "source": [
    "import torch\n",
    "\n",
    "class CNN(torch.nn.Module):\n",
    "    def __init__(self):\n",
    "        super(CNN, self).__init__()\n",
    "        self.fc = torch.nn.Sequential(\n",
    "            torch.nn.Conv2d(1, 32, kernel_size=3, stride=1, padding=1),  # 28x28 -> 28x28\n",
    "            torch.nn.ReLU(),\n",
    "            torch.nn.MaxPool2d(kernel_size=2, stride=2),  # 28x28 -> 14x14\n",
    "            torch.nn.Conv2d(32, 64, kernel_size=3, stride=1, padding=1),  # 14x14 -> 14x14\n",
    "            torch.nn.ReLU(),\n",
    "            torch.nn.MaxPool2d(kernel_size=2, stride=2),  # 14x14 -> 7x7\n",
    "            torch.nn.Flatten(), #攤平變成一維\n",
    "            torch.nn.Linear(64 * 7 * 7, 128), #輸入維度64*7*7，輸出維度128\n",
    "            torch.nn.ReLU(),\n",
    "            torch.nn.Linear(128, 10)\n",
    "        )\n",
    "\n",
    "    def forward(self, x):\n",
    "        out = self.fc(x)\n",
    "        return out\n",
    "\n",
    "# CNN = torch.jit.script(CNN())\n",
    "# 50epoch 96.75%"
   ]
  },
  {
   "cell_type": "code",
   "execution_count": 5,
   "id": "e39f31ac",
   "metadata": {},
   "outputs": [
    {
     "name": "stdout",
     "output_type": "stream",
     "text": [
      "torch.Size([32]) tensor([ 0,  1,  2,  3,  4,  5,  6,  7,  8,  9, 10, 11, 12, 13, 14, 15, 16, 17,\n",
      "        18, 19, 20, 21, 22, 23, 24, 25, 26, 27, 28, 29, 30, 31])\n",
      "torch.Size([32]) tensor([32, 33, 34, 35, 36, 37, 38, 39, 40, 41, 42, 43, 44, 45, 46, 47, 48, 49,\n",
      "        50, 51, 52, 53, 54, 55, 56, 57, 58, 59, 60, 61, 62, 63])\n",
      "torch.Size([32]) tensor([64, 65, 66, 67, 68, 69, 70, 71, 72, 73, 74, 75, 76, 77, 78, 79, 80, 81,\n",
      "        82, 83, 84, 85, 86, 87, 88, 89, 90, 91, 92, 93, 94, 95])\n",
      "torch.Size([4]) tensor([96, 97, 98, 99])\n"
     ]
    }
   ],
   "source": [
    "from torch.utils.data import TensorDataset, DataLoader\n",
    "\n",
    "test = torch.tensor(list(range(100)))\n",
    "test_dataset = TensorDataset(test)\n",
    "test_loader = DataLoader(test_dataset, batch_size=32, shuffle=False)\n",
    "\n",
    "for batch, in test_loader:\n",
    "    print(batch.shape, batch)\n",
    "\n",
    "# for idx in range(0, len(test), 32):\n",
    "#     batch = test[idx:idx+32]"
   ]
  },
  {
   "cell_type": "code",
   "execution_count": 6,
   "id": "a311687d",
   "metadata": {},
   "outputs": [
    {
     "name": "stdout",
     "output_type": "stream",
     "text": [
      "tensor([ 0., 10.])\n",
      "tensor([4.5398e-05, 9.9995e-01])\n"
     ]
    },
    {
     "data": {
      "text/plain": [
       "tensor([4.5398e-05, 9.9995e-01])"
      ]
     },
     "execution_count": 6,
     "metadata": {},
     "output_type": "execute_result"
    }
   ],
   "source": [
    "Y = torch.tensor([0, 10.0])\n",
    "print(Y)\n",
    "print(torch.softmax(Y, dim=0))\n",
    "\n",
    "torch.exp(Y)/torch.sum(torch.exp(Y))"
   ]
  },
  {
   "cell_type": "code",
   "execution_count": 7,
   "id": "2324633f",
   "metadata": {},
   "outputs": [
    {
     "name": "stdout",
     "output_type": "stream",
     "text": [
      "torch.Size([60000, 1, 28, 28]) torch.Size([60000])\n",
      "torch.Size([10000, 1, 28, 28]) torch.Size([10000])\n"
     ]
    }
   ],
   "source": [
    "train_X = mnist_train.data.view(60000, 1, 28, 28).float() / 255.0\n",
    "train_y = mnist_train.targets\n",
    "test_X = mnist_test.data.view(10000, 1, 28, 28).float() / 255.0\n",
    "test_y = mnist_test.targets\n",
    "# dataloader\n",
    "from torch.utils.data import TensorDataset, DataLoader\n",
    "train_dataset = TensorDataset(train_X, train_y)\n",
    "test_dataset = TensorDataset(test_X, test_y)\n",
    "train_loader = DataLoader(train_dataset, batch_size=64, shuffle=True)\n",
    "test_loader = DataLoader(test_dataset, batch_size=64, shuffle=False)\n",
    "print(train_X.shape, train_y.shape)\n",
    "print(test_X.shape, test_y.shape)"
   ]
  },
  {
   "cell_type": "code",
   "execution_count": null,
   "id": "8f745413",
   "metadata": {},
   "outputs": [
    {
     "name": "stdout",
     "output_type": "stream",
     "text": [
      "torch.Size([64, 1, 28, 28]) torch.Size([64])\n",
      "torch.Size([64, 32, 28, 28])\n",
      "torch.Size([64, 784])\n",
      "torch.Size([64, 25088])\n"
     ]
    }
   ],
   "source": [
    "for batch_X, batch_y in train_loader:\n",
    "    print(batch_X.shape, batch_y.shape)\n",
    "    print(torch.nn.Conv2d(1, 32, kernel_size=3, stride=1, padding=1)(batch_X).shape)\n",
    "    print(torch.nn.Flatten()(batch_X).shape)\n",
    "    print(torch.nn.Flatten()(torch.nn.Conv2d(1, 32, kernel_size=3, stride=1, padding=1)(batch_X)).shape)\n",
    "    \n",
    "    break"
   ]
  },
  {
   "cell_type": "code",
   "execution_count": null,
   "id": "43accefe",
   "metadata": {},
   "outputs": [
    {
     "name": "stderr",
     "output_type": "stream",
     "text": [
      "100%|██████████| 938/938 [00:30<00:00, 30.75it/s]\n",
      "100%|██████████| 157/157 [00:02<00:00, 74.81it/s]\n"
     ]
    },
    {
     "name": "stdout",
     "output_type": "stream",
     "text": [
      "Epoch [  1/100], Train Loss: 0.5503, Accuracy: 0.8629 Val Loss: 0.1980, Val Accuracy: 0.9418\n"
     ]
    },
    {
     "name": "stderr",
     "output_type": "stream",
     "text": [
      "100%|██████████| 938/938 [00:31<00:00, 29.56it/s]\n",
      "100%|██████████| 157/157 [00:02<00:00, 73.14it/s]\n"
     ]
    },
    {
     "name": "stdout",
     "output_type": "stream",
     "text": [
      "Epoch [  2/100], Train Loss: 0.1649, Accuracy: 0.9518 Val Loss: 0.1129, Val Accuracy: 0.9666\n"
     ]
    },
    {
     "name": "stderr",
     "output_type": "stream",
     "text": [
      "100%|██████████| 938/938 [00:33<00:00, 27.69it/s]\n",
      "100%|██████████| 157/157 [00:02<00:00, 74.21it/s]\n"
     ]
    },
    {
     "name": "stdout",
     "output_type": "stream",
     "text": [
      "Epoch [  3/100], Train Loss: 0.1085, Accuracy: 0.9681 Val Loss: 0.0840, Val Accuracy: 0.9744\n"
     ]
    },
    {
     "name": "stderr",
     "output_type": "stream",
     "text": [
      "100%|██████████| 938/938 [00:32<00:00, 28.55it/s]\n",
      "100%|██████████| 157/157 [00:02<00:00, 74.19it/s]\n"
     ]
    },
    {
     "name": "stdout",
     "output_type": "stream",
     "text": [
      "Epoch [  4/100], Train Loss: 0.0822, Accuracy: 0.9751 Val Loss: 0.0655, Val Accuracy: 0.9781\n"
     ]
    },
    {
     "name": "stderr",
     "output_type": "stream",
     "text": [
      "100%|██████████| 938/938 [00:33<00:00, 28.18it/s]\n",
      "100%|██████████| 157/157 [00:02<00:00, 60.12it/s]\n"
     ]
    },
    {
     "name": "stdout",
     "output_type": "stream",
     "text": [
      "Epoch [  5/100], Train Loss: 0.0680, Accuracy: 0.9797 Val Loss: 0.0563, Val Accuracy: 0.9816\n"
     ]
    },
    {
     "name": "stderr",
     "output_type": "stream",
     "text": [
      "100%|██████████| 938/938 [00:38<00:00, 24.63it/s]\n",
      "100%|██████████| 157/157 [00:02<00:00, 71.67it/s]\n"
     ]
    },
    {
     "name": "stdout",
     "output_type": "stream",
     "text": [
      "Epoch [  6/100], Train Loss: 0.0581, Accuracy: 0.9832 Val Loss: 0.0529, Val Accuracy: 0.9819\n"
     ]
    },
    {
     "name": "stderr",
     "output_type": "stream",
     "text": [
      "100%|██████████| 938/938 [00:33<00:00, 28.26it/s]\n",
      "100%|██████████| 157/157 [00:02<00:00, 76.17it/s]\n"
     ]
    },
    {
     "name": "stdout",
     "output_type": "stream",
     "text": [
      "Epoch [  7/100], Train Loss: 0.0513, Accuracy: 0.9849 Val Loss: 0.0458, Val Accuracy: 0.9846\n"
     ]
    },
    {
     "name": "stderr",
     "output_type": "stream",
     "text": [
      "100%|██████████| 938/938 [00:32<00:00, 28.56it/s]\n",
      "100%|██████████| 157/157 [00:02<00:00, 73.72it/s]\n"
     ]
    },
    {
     "name": "stdout",
     "output_type": "stream",
     "text": [
      "Epoch [  8/100], Train Loss: 0.0452, Accuracy: 0.9866 Val Loss: 0.0402, Val Accuracy: 0.9867\n"
     ]
    },
    {
     "name": "stderr",
     "output_type": "stream",
     "text": [
      "100%|██████████| 938/938 [00:39<00:00, 23.65it/s]\n",
      "100%|██████████| 157/157 [00:02<00:00, 65.25it/s]\n"
     ]
    },
    {
     "name": "stdout",
     "output_type": "stream",
     "text": [
      "Epoch [  9/100], Train Loss: 0.0408, Accuracy: 0.9880 Val Loss: 0.0409, Val Accuracy: 0.9849\n"
     ]
    },
    {
     "name": "stderr",
     "output_type": "stream",
     "text": [
      "100%|██████████| 938/938 [00:40<00:00, 23.21it/s]\n",
      "100%|██████████| 157/157 [00:02<00:00, 60.51it/s]\n"
     ]
    },
    {
     "name": "stdout",
     "output_type": "stream",
     "text": [
      "Epoch [ 10/100], Train Loss: 0.0372, Accuracy: 0.9889 Val Loss: 0.0378, Val Accuracy: 0.9870\n"
     ]
    },
    {
     "name": "stderr",
     "output_type": "stream",
     "text": [
      "100%|██████████| 938/938 [00:35<00:00, 26.14it/s]\n",
      "100%|██████████| 157/157 [00:02<00:00, 75.27it/s]\n"
     ]
    },
    {
     "name": "stdout",
     "output_type": "stream",
     "text": [
      "Epoch [ 11/100], Train Loss: 0.0340, Accuracy: 0.9898 Val Loss: 0.0421, Val Accuracy: 0.9862\n"
     ]
    },
    {
     "name": "stderr",
     "output_type": "stream",
     "text": [
      " 48%|████▊     | 450/938 [00:17<00:18, 26.33it/s]"
     ]
    }
   ],
   "source": [
    "from tqdm import tqdm\n",
    "# Train the model\n",
    "model = CNN()\n",
    "criterion = torch.nn.CrossEntropyLoss()\n",
    "# optimizer = torch.optim.SGD(model.parameters(), lr=0.01)\n",
    "optimizer = torch.optim.Adam(model.parameters(), lr=1e-4)\n",
    "\n",
    "for epoch in range(50):\n",
    "    total_loss = 0.0\n",
    "    total_hit = 0\n",
    "    for batch_X, batch_y in tqdm(train_loader, total=len(train_loader)):\n",
    "        optimizer.zero_grad()\n",
    "        # print(batch_X.shape, batch_y.shape)\n",
    "        # torch.Size([64, 784]) torch.Size([64])\n",
    "        outputs = model(batch_X)\n",
    "        # print(outputs.shape, batch_y.shape)\n",
    "        # torch.Size([64, 10]) torch.Size([64])\n",
    "        \n",
    "        loss = criterion(outputs, batch_y)\n",
    "        loss.backward()\n",
    "        optimizer.step()\n",
    "        total_loss += loss.item()\n",
    "        total_hit += torch.sum(batch_y == torch.argmax(outputs, dim=1)).item()\n",
    "    train_loss = total_loss / len(train_loader)\n",
    "    train_accuracy = total_hit / len(train_loader.dataset)\n",
    "\n",
    "    # Validation\n",
    "    total_loss = 0.0\n",
    "    total_hit = 0\n",
    "    with torch.no_grad():\n",
    "        for batch_X, batch_y in tqdm(test_loader, total=len(test_loader)):\n",
    "            outputs = model(batch_X)\n",
    "            loss = criterion(outputs, batch_y)\n",
    "            total_loss += loss.item()\n",
    "            total_hit += torch.sum(batch_y == torch.argmax(outputs, dim=1)).item()\n",
    "    test_loss = total_loss / len(test_loader)\n",
    "    test_accuracy = total_hit / len(test_loader.dataset)\n",
    "\n",
    "    print(f\"Epoch [{epoch+1:3d}/100], Train Loss: {train_loss:.4f}, Accuracy: {train_accuracy:.4f} Val Loss: {test_loss:.4f}, Val Accuracy: {test_accuracy:.4f}\")\n"
   ]
  },
  {
   "cell_type": "code",
   "execution_count": 26,
   "id": "dc1a96b2",
   "metadata": {},
   "outputs": [
    {
     "name": "stdout",
     "output_type": "stream",
     "text": [
      "tensor([1, 7, 9, 6, 9, 8, 3, 7, 0, 7, 5, 5, 2, 9, 9, 3, 5, 5, 1, 0, 0, 0, 8, 8,\n",
      "        2, 8, 0, 0, 9, 0, 0, 2, 4, 8, 3, 9, 9, 1, 7, 0, 0, 2, 8, 5, 1, 7, 2, 0,\n",
      "        1, 0, 0, 4, 6, 2, 5, 0, 2, 5, 6, 6, 5, 1, 9, 6])\n",
      "tensor([1, 7, 7, 6, 9, 8, 3, 7, 0, 7, 8, 0, 2, 9, 9, 3, 5, 5, 1, 3, 0, 0, 8, 8,\n",
      "        2, 8, 0, 0, 7, 0, 0, 2, 4, 8, 3, 9, 9, 1, 7, 0, 0, 2, 8, 1, 1, 7, 0, 8,\n",
      "        1, 0, 0, 4, 6, 2, 5, 0, 2, 5, 6, 6, 8, 1, 4, 6])\n",
      "tensor(0.8438)\n"
     ]
    }
   ],
   "source": [
    "pred_Y = torch.argmax(outputs, dim=1)\n",
    "print(pred_Y)\n",
    "print(batch_y)\n",
    "\n",
    "print(torch.sum(batch_y == pred_Y) / len(batch_y))"
   ]
  }
 ],
 "metadata": {
  "kernelspec": {
   "display_name": "base",
   "language": "python",
   "name": "python3"
  },
  "language_info": {
   "codemirror_mode": {
    "name": "ipython",
    "version": 3
   },
   "file_extension": ".py",
   "mimetype": "text/x-python",
   "name": "python",
   "nbconvert_exporter": "python",
   "pygments_lexer": "ipython3",
   "version": "3.11.7"
  }
 },
 "nbformat": 4,
 "nbformat_minor": 5
}
